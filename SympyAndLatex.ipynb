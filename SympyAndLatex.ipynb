{
  "nbformat": 4,
  "nbformat_minor": 0,
  "metadata": {
    "colab": {
      "provenance": [],
      "authorship_tag": "ABX9TyPy1BHTVVRXTdc0AIkx+8r5",
      "include_colab_link": true
    },
    "kernelspec": {
      "name": "python3",
      "display_name": "Python 3"
    },
    "language_info": {
      "name": "python"
    }
  },
  "cells": [
    {
      "cell_type": "markdown",
      "metadata": {
        "id": "view-in-github",
        "colab_type": "text"
      },
      "source": [
        "<a href=\"https://colab.research.google.com/github/sCesca/HTML-Page/blob/main/SympyAndLatex.ipynb\" target=\"_parent\"><img src=\"https://colab.research.google.com/assets/colab-badge.svg\" alt=\"Open In Colab\"/></a>"
      ]
    },
    {
      "cell_type": "markdown",
      "source": [
        "# Sympy e LaTeX\n",
        "---\n",
        "\n",
        "\n",
        "\n",
        "**Sympy** possibilita com que sejam criados símbolos e formas mais atrativas de se representar uma variável em Python.\n",
        "\n",
        "Além disso, possui métodos que representam fórmulas e funções para auxiliar no entendimento de um possível output visual."
      ],
      "metadata": {
        "id": "yJEECL64KcoV"
      }
    },
    {
      "cell_type": "code",
      "source": [
        "import numpy as np\n",
        "import sympy as sym\n",
        "sym.init_printing()\n",
        "from IPython.display import Math, display"
      ],
      "metadata": {
        "id": "9oIyoJdwNzKc"
      },
      "execution_count": 26,
      "outputs": []
    },
    {
      "cell_type": "code",
      "source": [
        "x, y, z = sym.symbols('x, y, z')"
      ],
      "metadata": {
        "id": "wxQpGqEKXs1I"
      },
      "execution_count": null,
      "outputs": []
    },
    {
      "cell_type": "code",
      "source": [
        "x, y, z"
      ],
      "metadata": {
        "colab": {
          "base_uri": "https://localhost:8080/",
          "height": 38
        },
        "id": "FmTFN6ZIYE9B",
        "outputId": "08d73406-86ed-40e0-e47d-cb3bd9d881a6"
      },
      "execution_count": null,
      "outputs": [
        {
          "output_type": "execute_result",
          "data": {
            "text/plain": [
              "(x, y, z)"
            ],
            "text/latex": "$\\displaystyle \\left( x, \\  y, \\  z\\right)$"
          },
          "metadata": {},
          "execution_count": 12
        }
      ]
    },
    {
      "cell_type": "code",
      "source": [
        "x**2 + y + 4**2 + y**x"
      ],
      "metadata": {
        "colab": {
          "base_uri": "https://localhost:8080/",
          "height": 38
        },
        "id": "UgJsI4kMYIuw",
        "outputId": "503820fc-320c-4705-e09d-0eb82e6a3327"
      },
      "execution_count": null,
      "outputs": [
        {
          "output_type": "execute_result",
          "data": {
            "text/plain": [
              " 2        x     \n",
              "x  + y + y  + 16"
            ],
            "text/latex": "$\\displaystyle x^{2} + y + y^{x} + 16$"
          },
          "metadata": {},
          "execution_count": 16
        }
      ]
    },
    {
      "cell_type": "code",
      "source": [
        "print(x**2 + y + 4**2 + y**x)"
      ],
      "metadata": {
        "colab": {
          "base_uri": "https://localhost:8080/"
        },
        "id": "2yU2L8KaY13H",
        "outputId": "ee2b9bba-20f6-439b-a7f0-57709f088d1f"
      },
      "execution_count": null,
      "outputs": [
        {
          "output_type": "stream",
          "name": "stdout",
          "text": [
            "x**2 + y + y**x + 16\n"
          ]
        }
      ]
    },
    {
      "cell_type": "code",
      "source": [
        "display(x**2 + y + 4**2 + y**x)\n",
        "print('-------')\n",
        "display(x**y / x)"
      ],
      "metadata": {
        "colab": {
          "base_uri": "https://localhost:8080/",
          "height": 90
        },
        "id": "JHh73sLlY38u",
        "outputId": "7bfcfac3-c276-4d0c-8791-c4d54d300822"
      },
      "execution_count": null,
      "outputs": [
        {
          "output_type": "display_data",
          "data": {
            "text/plain": [
              " 2        x     \n",
              "x  + y + y  + 16"
            ],
            "text/latex": "$\\displaystyle x^{2} + y + y^{x} + 16$"
          },
          "metadata": {}
        },
        {
          "output_type": "stream",
          "name": "stdout",
          "text": [
            "-------\n"
          ]
        },
        {
          "output_type": "display_data",
          "data": {
            "text/plain": [
              " y\n",
              "x \n",
              "──\n",
              "x "
            ],
            "text/latex": "$\\displaystyle \\frac{x^{y}}{x}$"
          },
          "metadata": {}
        }
      ]
    },
    {
      "cell_type": "code",
      "source": [
        "display(np.sqrt(2))\n",
        "print('-------')\n",
        "display(sym.sqrt(2))"
      ],
      "metadata": {
        "colab": {
          "base_uri": "https://localhost:8080/",
          "height": 76
        },
        "id": "URfhsKpiZzlO",
        "outputId": "65e13b71-d7af-4d18-e9ea-c6e91a6b1989"
      },
      "execution_count": null,
      "outputs": [
        {
          "output_type": "display_data",
          "data": {
            "text/plain": [
              "1.4142135623730951"
            ],
            "text/latex": "$\\displaystyle 1.4142135623731$"
          },
          "metadata": {}
        },
        {
          "output_type": "stream",
          "name": "stdout",
          "text": [
            "-------\n"
          ]
        },
        {
          "output_type": "display_data",
          "data": {
            "text/plain": [
              "√2"
            ],
            "text/latex": "$\\displaystyle \\sqrt{2}$"
          },
          "metadata": {}
        }
      ]
    },
    {
      "cell_type": "code",
      "source": [
        "# Sympy - exercises\n",
        "\n",
        "x, y = sym.symbols('x, y')\n",
        "\n",
        "# 1)\n",
        "display(y * x**2)\n",
        "\n",
        "# 2)\n",
        "display(sym.sqrt(4) * x)\n",
        "\n",
        "# 3)\n",
        "display(sym.sqrt(x) * sym.sqrt(x))"
      ],
      "metadata": {
        "colab": {
          "base_uri": "https://localhost:8080/",
          "height": 81
        },
        "id": "Qz5SikRWaA1A",
        "outputId": "d125fecf-8ef9-4dd0-a1cd-3697b813f59b"
      },
      "execution_count": 13,
      "outputs": [
        {
          "output_type": "display_data",
          "data": {
            "text/plain": [
              " 2  \n",
              "x ⋅y"
            ],
            "text/latex": "$\\displaystyle x^{2} y$"
          },
          "metadata": {}
        },
        {
          "output_type": "display_data",
          "data": {
            "text/plain": [
              "2⋅x"
            ],
            "text/latex": "$\\displaystyle 2 x$"
          },
          "metadata": {}
        },
        {
          "output_type": "display_data",
          "data": {
            "text/plain": [
              "x"
            ],
            "text/latex": "$\\displaystyle x$"
          },
          "metadata": {}
        }
      ]
    },
    {
      "cell_type": "code",
      "source": [
        "display(Math('4 + 3 = 7'))"
      ],
      "metadata": {
        "colab": {
          "base_uri": "https://localhost:8080/",
          "height": 37
        },
        "id": "CgjIQ9NdMoYT",
        "outputId": "6d0d7c30-9458-4b8f-b355-2ac29dd610e9"
      },
      "execution_count": 16,
      "outputs": [
        {
          "output_type": "display_data",
          "data": {
            "text/plain": [
              "<IPython.core.display.Math object>"
            ],
            "text/latex": "$\\displaystyle 4 + 3 = 7$"
          },
          "metadata": {}
        }
      ]
    },
    {
      "cell_type": "code",
      "source": [
        "display(Math('\\\\sigma = \\\\mu \\\\times \\\\sqrt{5}'))"
      ],
      "metadata": {
        "colab": {
          "base_uri": "https://localhost:8080/",
          "height": 40
        },
        "id": "9e40ahZkNI7z",
        "outputId": "4d9e4014-c091-4ff3-f488-47a171eadd8a"
      },
      "execution_count": 18,
      "outputs": [
        {
          "output_type": "display_data",
          "data": {
            "text/plain": [
              "<IPython.core.display.Math object>"
            ],
            "text/latex": "$\\displaystyle \\sigma = \\mu \\times \\sqrt{5}$"
          },
          "metadata": {}
        }
      ]
    },
    {
      "cell_type": "code",
      "source": [
        "display(Math('x_{x \\\\times y} + y^{x \\\\times y - 2k - 15 \\\\div 4}'))"
      ],
      "metadata": {
        "colab": {
          "base_uri": "https://localhost:8080/",
          "height": 39
        },
        "id": "jSUCoV0rDH6y",
        "outputId": "568ed8bb-eda8-49cf-fcad-1b14ca153492"
      },
      "execution_count": 9,
      "outputs": [
        {
          "output_type": "display_data",
          "data": {
            "text/plain": [
              "<IPython.core.display.Math object>"
            ],
            "text/latex": "$\\displaystyle x_{x \\times y} + y^{x \\times y - 2k - 15 \\div 4}$"
          },
          "metadata": {}
        }
      ]
    },
    {
      "cell_type": "code",
      "source": [
        "# Sympy exercise resolved with LaTex\n",
        "\n",
        "# 1)\n",
        "display(Math('y \\\\times x^{2}'))\n",
        "\n",
        "# 2)\n",
        "display(Math('\\\\sqrt{4} \\\\times x'))\n",
        "\n",
        "# 3)\n",
        "display(Math('\\\\sqrt{x}\\\\sqrt{x}'))"
      ],
      "metadata": {
        "colab": {
          "base_uri": "https://localhost:8080/",
          "height": 119
        },
        "id": "Y6ISYx5cD8rg",
        "outputId": "85820203-daeb-4875-95b6-fb32fce2ad34"
      },
      "execution_count": 16,
      "outputs": [
        {
          "output_type": "display_data",
          "data": {
            "text/plain": [
              "<IPython.core.display.Math object>"
            ],
            "text/latex": "$\\displaystyle y \\times x^{2}$"
          },
          "metadata": {}
        },
        {
          "output_type": "display_data",
          "data": {
            "text/plain": [
              "<IPython.core.display.Math object>"
            ],
            "text/latex": "$\\displaystyle \\sqrt{4} \\times x$"
          },
          "metadata": {}
        },
        {
          "output_type": "display_data",
          "data": {
            "text/plain": [
              "<IPython.core.display.Math object>"
            ],
            "text/latex": "$\\displaystyle \\sqrt{x}\\sqrt{x}$"
          },
          "metadata": {}
        },
        {
          "output_type": "display_data",
          "data": {
            "text/plain": [
              "<IPython.core.display.Math object>"
            ],
            "text/latex": "$\\displaystyle \\frac{1+x}{2v + \\sqrt{4^{xt}}}$"
          },
          "metadata": {}
        }
      ]
    },
    {
      "cell_type": "code",
      "source": [
        "display(Math('\\\\text{The answer to this equation is: } \\\\frac{1+x}{2v + \\\\sqrt{4^{xt}}}'))"
      ],
      "metadata": {
        "colab": {
          "base_uri": "https://localhost:8080/",
          "height": 55
        },
        "id": "YoLzFwWWHwEt",
        "outputId": "e8dbff57-865e-48d7-fb1f-68598b5772f1"
      },
      "execution_count": 23,
      "outputs": [
        {
          "output_type": "display_data",
          "data": {
            "text/plain": [
              "<IPython.core.display.Math object>"
            ],
            "text/latex": "$\\displaystyle \\text{The answer to this equation is: } \\frac{1+x}{2v + \\sqrt{4^{xt}}}$"
          },
          "metadata": {}
        }
      ]
    },
    {
      "cell_type": "markdown",
      "source": [
        "## This is a Markdown\n",
        "\n",
        "This cell is not for running actual Python code. We can make the following math expression: $\\frac{1+x}{2v + \\sqrt{4^{xt}}}$\n",
        "\n",
        "**LaTeX Exercises in markdown**\n",
        "\n",
        "1) $4x + 5y - 8z = 17$\n",
        "\n",
        "2) $\\sin(2\\pi ft + \\theta)$\n",
        "\n",
        "3) $e = mc²$\n",
        "\n",
        "4) $\\frac{4 + 5x²}{(1 + x) (1 -x)}$"
      ],
      "metadata": {
        "id": "yJ5fbVwlKzjL"
      }
    },
    {
      "cell_type": "code",
      "source": [
        "# LaTeX exercises\n",
        "\n",
        "# 1)\n",
        "display(Math('\\\\text{1) }4x + 5x - 8z = 17'))\n",
        "\n",
        "# 2)\n",
        "display(Math('\\\\text{2) }\\\\sin(2\\\\pi f t + \\\\theta)'))\n",
        "\n",
        "# 3)\n",
        "display(Math('\\\\text{3) }e = mc²'))\n",
        "\n",
        "# 4)\n",
        "display(Math('\\\\text{4) }\\\\frac{4 + 5x²}{(1 + x)(1 - x)}'))\n",
        "\n",
        "# Example with variable\n",
        "\n",
        "x = 50\n",
        "y = 10\n",
        "\n",
        "display(Math('\\\\text{Um exemplo utilizando variáveis X e Y: }\\\\frac{%g}{%g} = %g' %(x, y, x/y)))"
      ],
      "metadata": {
        "colab": {
          "base_uri": "https://localhost:8080/",
          "height": 156
        },
        "id": "fYVH9kL4Le2Z",
        "outputId": "4030e399-c3c9-47e8-d8d2-0f24b7d10308"
      },
      "execution_count": 37,
      "outputs": [
        {
          "output_type": "display_data",
          "data": {
            "text/plain": [
              "<IPython.core.display.Math object>"
            ],
            "text/latex": "$\\displaystyle \\text{1) }4x + 5x - 8z = 17$"
          },
          "metadata": {}
        },
        {
          "output_type": "display_data",
          "data": {
            "text/plain": [
              "<IPython.core.display.Math object>"
            ],
            "text/latex": "$\\displaystyle \\text{2) }\\sin(2\\pi f t + \\theta)$"
          },
          "metadata": {}
        },
        {
          "output_type": "display_data",
          "data": {
            "text/plain": [
              "<IPython.core.display.Math object>"
            ],
            "text/latex": "$\\displaystyle \\text{3) }e = mc²$"
          },
          "metadata": {}
        },
        {
          "output_type": "display_data",
          "data": {
            "text/plain": [
              "<IPython.core.display.Math object>"
            ],
            "text/latex": "$\\displaystyle \\text{4) }\\frac{4 + 5x²}{(1 + x)(1 - x)}$"
          },
          "metadata": {}
        },
        {
          "output_type": "display_data",
          "data": {
            "text/plain": [
              "<IPython.core.display.Math object>"
            ],
            "text/latex": "$\\displaystyle \\text{Um exemplo utilizando variáveis X e Y: }\\frac{50}{10} = 5$"
          },
          "metadata": {}
        }
      ]
    }
  ]
}